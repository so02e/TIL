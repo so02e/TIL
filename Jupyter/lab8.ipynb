{
 "cells": [
  {
   "cell_type": "code",
   "execution_count": 11,
   "metadata": {},
   "outputs": [
    {
     "ename": "SyntaxError",
     "evalue": "unexpected EOF while parsing (<ipython-input-11-ab8e2667ace1>, line 1)",
     "output_type": "error",
     "traceback": [
      "\u001b[1;36m  File \u001b[1;32m\"<ipython-input-11-ab8e2667ace1>\"\u001b[1;36m, line \u001b[1;32m1\u001b[0m\n\u001b[1;33m    def naver_search (keyword, callType = 'JSON') :\u001b[0m\n\u001b[1;37m                                                   ^\u001b[0m\n\u001b[1;31mSyntaxError\u001b[0m\u001b[1;31m:\u001b[0m unexpected EOF while parsing\n"
     ]
    }
   ],
   "source": [
    "import os\n",
    "import sys\n",
    "import urllib.request\n",
    "import datetime\n",
    "import time\n",
    "import json\n",
    "\n",
    "client_id = '0LHQM4VX_MQM6JfkXofa'\n",
    "client_secret = 'OcPgqpswCg'\n",
    "\n",
    "def naver_search (keyword, callType = 'JSON') :\n",
    "    req = urllib.request.Request(url)\n",
    "    req.add_header(\"X-Naver-Client-Id\", client_id)\n",
    "    req.add_header(\"X-Naver-Client-Secret\", client_secret)\n",
    "    \n",
    "    try: \n",
    "        response = urllib.request.urlopen(req)\n",
    "        if response.getcode() == 200:\n",
    "            print (\"[%s] Url Request Success\" % datetime.datetime.now())\n",
    "            return response.read().decode('utf-8')\n",
    "    except Exception as e:\n",
    "        print(e)\n",
    "        print(\"[%s] Error for URL : %s\" % (datetime.datetime.now(), url))\n",
    "        return None\n",
    "    \n",
    "    base = \"https://openapi.naver.com/v1/search\"\n",
    "    node = \"/%s.json\" % node\n",
    "    parameters = \"?query=%s&start=%s&display=%s\" % (urllib.parse.quote(srcText), start, display)\n",
    "    \n",
    "    url = base + node + parameters    \n",
    "    responseDecode = getRequestUrl(url)   #[CODE 1]\n",
    "    \n",
    "    if (responseDecode == None):\n",
    "        return None\n",
    "    else:\n",
    "        return json.loads(responseDecode)\n",
    "   "
   ]
  },
  {
   "cell_type": "code",
   "execution_count": 2,
   "metadata": {},
   "outputs": [],
   "source": [
    "import urllib.request\n",
    "from bs4 import BeautifulSoup\n",
    "import json\n",
    "\n",
    "client_id = '0LHQM4VX_MQM6JfkXofa'\n",
    "client_secret = 'OcPgqpswCg'\n",
    "    \n",
    "def naver_search (keyword, callType = 'JSON') :\n",
    "    query = urllib.parse.quote_plus(keyword)\n",
    "    if callType == 'JSON':\n",
    "        c_type = 'json'\n",
    "    else:\n",
    "        c_type = 'xml'\n",
    "    url = 'https://openapi.naver.com/v1/search/local.' + c_type + '?query=' + query + '&display=5'\n",
    "    \n",
    "    request = urllib.request.Request(url)\n",
    "    request.add_header(\"X-Naver-Client-Id\", client_id)\n",
    "    request.add_header(\"X-Naver-Client-Secret\", client_secret)\n",
    "    response = urllib.request.urlopen(request)\n",
    "    rescode = response.getcode()\n",
    "    \n",
    "    if rescode == 200:\n",
    "        if c_type == 'json':\n",
    "            response_body = response.read()\n",
    "            dataList = json.loads(response_body)\n",
    "            #print(dataList)\n",
    "            count = 1\n",
    "            print('[' + keyword + '집에 대한 네이버 지역 정보(JSON)')\n",
    "            for data in dataList['items'] :\n",
    "                print(str(count) + ' : ' + data['title'] + ',' + data['address'])\n",
    "                count += 1\n",
    "        else:\n",
    "            #print(response.read().decode('utf-8'))\n",
    "            soup = BeautifulSoup(response.read().decode('utf-8'), 'xml')\n",
    "            count = 1\n",
    "            print('[' + keyword + '집에 대한 네이버 지역 정보(XML) ]')\n",
    "            for itemList in soup.find_all('item'):\n",
    "                title = itemList.find('title').string\n",
    "                address = itemList.find('address').string\n",
    "                print(str(count) + ' : ' + title + ',' + address)\n",
    "                count += 1\n",
    "    else :\n",
    "        print('오류 코드 : ' + rescode)"
   ]
  },
  {
   "cell_type": "code",
   "execution_count": 3,
   "metadata": {},
   "outputs": [
    {
     "name": "stdout",
     "output_type": "stream",
     "text": [
      "[짜장면집에 대한 네이버 지역 정보(XML) ]\n",
      "1 : 란주라미엔,서울특별시 중구 충무로1가 25-14\n",
      "2 : 딘타이펑 명동점,서울특별시 중구 명동1가 59-1\n",
      "3 : 개화,서울특별시 중구 명동2가 107-1\n",
      "4 : 몽중헌 페럼타워점,서울특별시 중구 수하동 66\n",
      "5 : 원흥,서울특별시 중구 다동 92\n"
     ]
    }
   ],
   "source": [
    "naver_search('짜장면', 'XML')"
   ]
  },
  {
   "cell_type": "code",
   "execution_count": 4,
   "metadata": {},
   "outputs": [
    {
     "name": "stdout",
     "output_type": "stream",
     "text": [
      "[쌀국수집에 대한 네이버 지역 정보(JSON)\n",
      "1 : 포하노이,서울특별시 종로구 청진동 70 B1\n",
      "2 : 호아빈 서울시청점,서울특별시 중구 서소문동 14-2\n",
      "3 : 미스사이공 명동,서울특별시 중구 명동2가 54-2\n",
      "4 : 반포식스 광화문점,서울특별시 종로구 신문로1가 239\n",
      "5 : 사이공,서울특별시 종로구 종로1가 24\n"
     ]
    }
   ],
   "source": [
    "naver_search('쌀국수')"
   ]
  }
 ],
 "metadata": {
  "kernelspec": {
   "display_name": "pydatavenv",
   "language": "python",
   "name": "pydatavenv"
  },
  "language_info": {
   "codemirror_mode": {
    "name": "ipython",
    "version": 3
   },
   "file_extension": ".py",
   "mimetype": "text/x-python",
   "name": "python",
   "nbconvert_exporter": "python",
   "pygments_lexer": "ipython3",
   "version": "3.8.8"
  }
 },
 "nbformat": 4,
 "nbformat_minor": 4
}
