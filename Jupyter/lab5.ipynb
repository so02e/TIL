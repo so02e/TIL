{
 "cells": [
  {
   "cell_type": "code",
   "execution_count": 12,
   "metadata": {},
   "outputs": [],
   "source": [
    "from selenium import webdriver\n",
    "from selenium.webdriver.common.keys import Keys \n",
    "\n",
    "driver = webdriver.Chrome('C:/Temp/chromedriver') # 내부적으로 웹드라이버 객체를 리턴 받는다. 이때 브라우저가 기동된다. \n",
    "driver.get('http://www.naver.com') \n",
    "target=driver.find_element_by_css_selector(\"#query\")\n",
    "target.send_keys('파이썬')\n",
    "target.send_keys(Keys.ENTER)\n"
   ]
  },
  {
   "cell_type": "code",
   "execution_count": 13,
   "metadata": {},
   "outputs": [
    {
     "name": "stdout",
     "output_type": "stream",
     "text": [
      "WebDriver 객체 :  <class 'selenium.webdriver.chrome.webdriver.WebDriver'>\n"
     ]
    }
   ],
   "source": [
    "from selenium import webdriver\n",
    "from selenium.webdriver.common.keys import Keys \n",
    "\n",
    "driver = webdriver.Chrome('C:/Temp/chromedriver') # 내부적으로 웹드라이버 객체를 리턴 받는다. 이때 브라우저가 기동된다. \n",
    "driver.get('http://www.naver.com') \n",
    "target=driver.find_element_by_id(\"query\")\n",
    "target.send_keys('파이썬')\n",
    "target.send_keys(Keys.ENTER)\n"
   ]
  },
  {
   "cell_type": "code",
   "execution_count": 14,
   "metadata": {},
   "outputs": [
    {
     "name": "stdout",
     "output_type": "stream",
     "text": [
      "WebDriver 객체 :  <class 'selenium.webdriver.chrome.webdriver.WebDriver'>\n"
     ]
    }
   ],
   "source": [
    "from selenium import webdriver\n",
    "from selenium.webdriver.common.keys import Keys \n",
    "\n",
    "driver = webdriver.Chrome('C:/Temp/chromedriver') # 내부적으로 웹드라이버 객체를 리턴 받는다. 이때 브라우저가 기동된다. \n",
    "driver.get('http://www.naver.com') \n",
    "target=driver.find_element_by_class_name('input_text')\n",
    "target.send_keys('파이썬')\n",
    "target.send_keys(Keys.ENTER)\n"
   ]
  }
 ],
 "metadata": {
  "kernelspec": {
   "display_name": "pydatavenv",
   "language": "python",
   "name": "pydatavenv"
  },
  "language_info": {
   "codemirror_mode": {
    "name": "ipython",
    "version": 3
   },
   "file_extension": ".py",
   "mimetype": "text/x-python",
   "name": "python",
   "nbconvert_exporter": "python",
   "pygments_lexer": "ipython3",
   "version": "3.8.8"
  }
 },
 "nbformat": 4,
 "nbformat_minor": 4
}
