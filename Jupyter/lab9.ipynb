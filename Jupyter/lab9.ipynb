{
 "cells": [
  {
   "cell_type": "code",
   "execution_count": 3,
   "metadata": {},
   "outputs": [
    {
     "name": "stdout",
     "output_type": "stream",
     "text": [
      "<class 'pandas.core.series.Series'>\n",
      "0    10\n",
      "1    20\n",
      "2    30\n",
      "3    40\n",
      "4    50\n",
      "dtype: int64\n"
     ]
    }
   ],
   "source": [
    "import pandas as pd\n",
    "s1 = pd.Series([10,20,30,40,50])\n",
    "\n",
    "print(type(s1))\n",
    "print(s1)"
   ]
  },
  {
   "cell_type": "code",
   "execution_count": 4,
   "metadata": {},
   "outputs": [
    {
     "name": "stdout",
     "output_type": "stream",
     "text": [
      "<class 'pandas.core.series.Series'>\n",
      "a    1\n",
      "b    2\n",
      "c    3\n",
      "d    4\n",
      "e    5\n",
      "dtype: int64\n"
     ]
    }
   ],
   "source": [
    "s2_data = {'a': 1, 'b': 2, 'c': 3, 'd': 4,'e': 5}\n",
    "s2 = pd.Series(s2_data)\n",
    "\n",
    "print(type(s2))\n",
    "print(s2)"
   ]
  },
  {
   "cell_type": "code",
   "execution_count": 5,
   "metadata": {},
   "outputs": [
    {
     "name": "stdout",
     "output_type": "stream",
     "text": [
      "<class 'pandas.core.series.Series'>\n",
      "학생1     둘리\n",
      "학생2     또치\n",
      "학생3    도우너\n",
      "학생4    희동이\n",
      "학생5    마이콜\n",
      "dtype: object\n"
     ]
    }
   ],
   "source": [
    "s3_data = {'학생1': \"둘리\", '학생2': \"또치\", '학생3': \"도우너\", '학생4': \"희동이\",'학생5': \"마이콜\"}\n",
    "s3 = pd.Series(s3_data)\n",
    "\n",
    "print(type(s3))\n",
    "print(s3)"
   ]
  },
  {
   "cell_type": "code",
   "execution_count": 81,
   "metadata": {},
   "outputs": [
    {
     "name": "stdout",
     "output_type": "stream",
     "text": [
      "<class 'pandas.core.series.Series'>\n",
      "학생1     둘리\n",
      "학생2     또치\n",
      "학생3    도우너\n",
      "학생4    희동이\n",
      "학생5    마이콜\n",
      "dtype: object\n"
     ]
    }
   ],
   "source": [
    "list_data = [\"둘리\", \"또치\", \"도우너\", \"희동이\",\"마이콜\"]\n",
    "s4 = pd.Series(list_data, index=['학생1','학생2','학생3','학생4','학생5'])\n",
    "\n",
    "print(type(s4))\n",
    "print(s4)"
   ]
  },
  {
   "cell_type": "code",
   "execution_count": 98,
   "metadata": {},
   "outputs": [
    {
     "name": "stdout",
     "output_type": "stream",
     "text": [
      "[시리즈 sr출력]\n",
      "A형     34.2\n",
      "B형     27.1\n",
      "O형     26.7\n",
      "AB형    11.5\n",
      "dtype: float64\n",
      "[시리즈 sr에서 인덱싱과 슬라이싱하여 출력(숫자 인덱스 사용)]\n",
      "34.2\n",
      "11.5\n",
      "27.1\n",
      "B형     27.1\n",
      "O형     26.7\n",
      "AB형    11.5\n",
      "dtype: float64\n",
      "[시리즈 sr에서 인덱싱과 슬라이싱하여 출력(이름 인덱스 사용)]\n",
      "34.2\n",
      "11.5\n",
      "27.1\n",
      "B형     27.1\n",
      "O형     26.7\n",
      "AB형    11.5\n",
      "dtype: float64\n",
      "[시리즈 sr의 크기 출력]\n",
      "4\n",
      "[시리즈 sr의 인덱스 출력]\n",
      "Index(['A형', 'B형', 'O형', 'AB형'], dtype='object')\n",
      "[시리즈 sr의 데이터 값 출력]\n",
      "[34.2 27.1 26.7 11.5]\n"
     ]
    }
   ],
   "source": [
    "blood = ['A형', 'B형', 'O형', 'AB형']\n",
    "st = [34.2, 27.1, 26.7, 11.5]\n",
    "sr = pd.Series(st, index=blood)\n",
    "\n",
    "print(\"[시리즈 sr출력]\")\n",
    "print(sr)\n",
    "\n",
    "\n",
    "print(\"[시리즈 sr에서 인덱싱과 슬라이싱하여 출력(숫자 인덱스 사용)]\")\n",
    "print(sr[0])\n",
    "print(sr[-1])\n",
    "print(sr[1])\n",
    "print(sr[1 :4])\n",
    "\n",
    "\n",
    "print(\"[시리즈 sr에서 인덱싱과 슬라이싱하여 출력(이름 인덱스 사용)]\")\n",
    "print(sr[\"A형\"])\n",
    "print(sr[\"AB형\"])\n",
    "print(sr[\"B형\"])\n",
    "print(sr[\"B형\" : \"AB형\"])\n",
    "\n",
    "\n",
    "print(\"[시리즈 sr의 크기 출력]\")\n",
    "print(len(sr.index))\n",
    "\n",
    "\n",
    "print(\"[시리즈 sr의 인덱스 출력]\")\n",
    "print(sr.index)\n",
    "\n",
    "\n",
    "print(\"[시리즈 sr의 데이터 값 출력]\")\n",
    "print(sr.values)\n",
    "\n"
   ]
  },
  {
   "cell_type": "code",
   "execution_count": 99,
   "metadata": {},
   "outputs": [
    {
     "name": "stdout",
     "output_type": "stream",
     "text": [
      "<class 'pandas.core.frame.DataFrame'>\n",
      "  name  kor  eng  mat\n",
      "0   둘리   90   99   90\n",
      "1   또치   80   98   70\n",
      "2  도우너   70   97   70\n",
      "3  희동이   70   46   60\n"
     ]
    }
   ],
   "source": [
    "exam_data = {'name':[\"둘리\",\"또치\",\"도우너\",\"희동이\"],'kor' : [ 90,80,70,70], 'eng' : [99,98,97,46],'mat' : [ 90,70,70,60]}\n",
    "df1 = pd.DataFrame(exam_data)\n",
    "print(type(df1))\n",
    "print(df1)"
   ]
  },
  {
   "cell_type": "code",
   "execution_count": 100,
   "metadata": {},
   "outputs": [
    {
     "name": "stdout",
     "output_type": "stream",
     "text": [
      "<class 'pandas.core.frame.DataFrame'>\n",
      "    name  kor  eng  mat\n",
      "학생1   둘리   90   99   90\n",
      "학생2   또치   80   98   70\n",
      "학생3  도우너   70   97   70\n",
      "학생4  희동이   70   46   60\n"
     ]
    }
   ],
   "source": [
    "df2 = pd.DataFrame(exam_data, index=['학생1', '학생2', '학생3','학생4'])\n",
    "print(type(df2))\n",
    "print(df2)"
   ]
  },
  {
   "cell_type": "code",
   "execution_count": 101,
   "metadata": {},
   "outputs": [
    {
     "name": "stdout",
     "output_type": "stream",
     "text": [
      "    dooly  doochi  dounar  heedong\n",
      "st1    둘리      90      99       90\n",
      "st2    또치      80      98       70\n",
      "st3   도우너      70      97       70\n",
      "st4   희동이      70      46       60\n"
     ]
    }
   ],
   "source": [
    "df3 = df2.copy()\n",
    "\n",
    "df3.index=['st1', 'st2','st3','st4']\n",
    "df3.columns=['dooly', 'doochi', 'dounar','heedong']\n",
    "\n",
    "print(df3)"
   ]
  },
  {
   "cell_type": "code",
   "execution_count": 121,
   "metadata": {},
   "outputs": [
    {
     "name": "stdout",
     "output_type": "stream",
     "text": [
      "  name  kor  eng  mat\n",
      "0  듀크1   90   99   90\n",
      "1  듀크2   80   98   70\n",
      "2  듀크3   70   97   70\n",
      "3  듀크4   70   46   60\n",
      "4  듀크5   60   77   88\n",
      "  name  kor  eng  mat\n",
      "0  듀크1   90   99   90\n",
      "1  듀크2   80   98   70\n",
      "2  듀크3   70   97   70\n",
      "3  듀크4   70   46   60\n",
      "4  듀크5   60   77   88\n",
      "  name  kor  eng  mat\n",
      "6  듀크7   90   90   90\n",
      "5  듀크6   70   56   99\n",
      "4  듀크5   60   77   88\n",
      "3  듀크4   70   46   60\n",
      "2  듀크3   70   97   70\n",
      "  name  kor  eng  mat\n",
      "2  듀크3   70   97   70\n",
      "3  듀크4   70   46   60\n",
      "4  듀크5   60   77   88\n",
      "5  듀크6   70   56   99\n",
      "6  듀크7   90   90   90\n",
      "Index(['name', 'kor', 'eng', 'mat'], dtype='object')\n",
      "0    듀크1\n",
      "1    듀크2\n",
      "2    듀크3\n",
      "3    듀크4\n",
      "4    듀크5\n",
      "5    듀크6\n",
      "6    듀크7\n",
      "Name: name, dtype: object\n",
      "0    99\n",
      "1    98\n",
      "2    97\n",
      "3    46\n",
      "4    77\n",
      "5    56\n",
      "6    90\n",
      "Name: eng, dtype: int64\n",
      "   kor  mat\n",
      "0   90   90\n",
      "1   80   70\n",
      "2   70   70\n",
      "3   70   60\n",
      "4   60   88\n",
      "5   70   99\n",
      "6   90   90\n",
      "-------------iloc 사용--------------\n",
      "name    듀크4\n",
      "kor      70\n",
      "eng      46\n",
      "mat      60\n",
      "Name: 3, dtype: object\n",
      "듀크1\n",
      "46\n",
      "2    97\n",
      "3    46\n",
      "Name: eng, dtype: int64\n",
      "   eng  mat\n",
      "2   97   70\n",
      "3   46   60\n",
      "-------------loc 사용--------------\n",
      "name    듀크4\n",
      "kor      70\n",
      "eng      46\n",
      "mat      60\n",
      "Name: 3, dtype: object\n",
      "듀크1\n",
      "46\n",
      "2    97\n",
      "3    46\n",
      "Name: eng, dtype: int64\n",
      "   eng  mat\n",
      "2   97   70\n",
      "3   46   60\n"
     ]
    }
   ],
   "source": [
    "data = {\n",
    "    'name':['듀크1', '듀크2', '듀크3', '듀크4', '듀크5', \n",
    "           '듀크6', '듀크7'],\n",
    "    'kor':[90, 80, 70, 70, 60, 70, 90],\n",
    "    'eng':[99, 98, 97, 46, 77, 56, 90],\n",
    "    'mat':[90, 70, 70, 60, 88, 99, 90],\n",
    "}\n",
    "df = pd.DataFrame(data)\n",
    "\n",
    "\n",
    "# 앞에서 다섯 행만 출력한다.\n",
    "position1 = df.iloc[0:5]\n",
    "print(position1)\n",
    "\n",
    "print(df.head(5))\n",
    "\n",
    "# 뒤에서 다섯 행만 출력한다.\n",
    "position2 = df.iloc[6:1:-1]\n",
    "print(position2)\n",
    "\n",
    "print(df.tail(5))\n",
    "\n",
    "# 컬럼명들을 출력한다.\n",
    "print(df.columns)\n",
    "\n",
    "# name 컬럼만 출력한다.(추출시 [] 사용)\n",
    "name = df['name']\n",
    "print(name)\n",
    "\n",
    "# eng 컬럼만 출력한다.(추출시 . 사용)\n",
    "eng = df.eng\n",
    "print(eng)\n",
    "\n",
    "# kor과 mat 컬럼만 출력한다.\n",
    "kornmat = df[['kor', 'mat']]\n",
    "print(kornmat)\n",
    "\n",
    "print(\"-------------iloc 사용--------------\")\n",
    "# iloc 인덱서를 사용하여 네 번째 행을 출력한다.\n",
    "il1 = df.iloc[3]\n",
    "print(il1)\n",
    "\n",
    "# iloc 인덱서를 사용하여 첫 번째 행, 첫 번째 열을 출력한다.\n",
    "il2 = df.iloc[0, 0]\n",
    "print(il2)\n",
    "\n",
    "# iloc 인덱서를 사용하여 네 번째 행, 세 번째 열을 출력한다.\n",
    "il3 = df.iloc[3, 2]\n",
    "print(il3)\n",
    "\n",
    "# iloc 인덱서를 사용하여 세 번째와 네 번째 행의 세 번째 열을 출력한다.\n",
    "il4 = df.iloc[2:4, 2]\n",
    "print(il4)\n",
    "\n",
    "# iloc 인덱서를 사용하여 세 번째와 네 번째 행의 세 번째와 네 번째열을 출력한다.\n",
    "il5 = df.iloc[2:4, 2:4]\n",
    "print(il5)\n",
    "\n",
    "print(\"-------------loc 사용--------------\")\n",
    "# loc 인덱서를 사용하여 네 번째 행을 출력한다.\n",
    "l1 = df.loc[3]\n",
    "print(l1)\n",
    "\n",
    "# loc 인덱서를 사용하여 첫 번째 행, 첫 번째 열을 출력한다.\n",
    "l2 = df.loc[0, \"name\"]\n",
    "print(l2)\n",
    "\n",
    "# loc 인덱서를 사용하여 네 번째 행, 세 번째 열을 출력한다.\n",
    "l3 = df.loc[3, 'eng']\n",
    "print(l3)\n",
    "\n",
    "# loc 인덱서를 사용하여 세 번째와 네 번째 행의 세 번째 열을 출력한다.\n",
    "l4 = df.loc[2:3, 'eng']\n",
    "print(l4)\n",
    "\n",
    "# loc 인덱서를 사용하여 세 번째와 네 번째 행의 세 번째와 네 번째열을 출력한다.\n",
    "l5 = df.loc[2:3, 'eng':'mat']\n",
    "print(l5)\n"
   ]
  },
  {
   "cell_type": "code",
   "execution_count": 123,
   "metadata": {},
   "outputs": [
    {
     "name": "stdout",
     "output_type": "stream",
     "text": [
      "      kor  eng  mat\n",
      "name               \n",
      "듀크1    90   99   90\n",
      "듀크2    80   98   70\n",
      "듀크3    70   97   70\n",
      "듀크4    70   46   60\n",
      "듀크5    60   77   88\n",
      "듀크6    70   56   99\n",
      "듀크7    90   90   90\n",
      "  name  kor  eng  mat\n",
      "0  듀크1   90   99   90\n",
      "1  듀크2   80   98   70\n",
      "2  듀크3   70   97   70\n",
      "3  듀크4   70   46   60\n",
      "4  듀크5   60   77   88\n",
      "5  듀크6   70   56   99\n",
      "6  듀크7   90   90   90\n",
      "      kor  eng  mat\n",
      "name               \n",
      "듀크1    90   99   90\n",
      "듀크2    80   98   70\n",
      "듀크3    70   97   70\n",
      "듀크4    70   46   60\n",
      "듀크5    60   77   88\n",
      "듀크6    70   56   99\n",
      "듀크7    90   90   90\n"
     ]
    }
   ],
   "source": [
    "df2 = df.copy()\n",
    "\n",
    "df2 = df2.set_index(['name'])\n",
    "print(df2)\n",
    "\n",
    "\n",
    "\n",
    "print(df)\n",
    "df.set_index(['name'],inplace = True) # 기존 데이터프레임에 변화를 주려고 할 때 True를 준다. \n",
    "print(df)"
   ]
  }
 ],
 "metadata": {
  "kernelspec": {
   "display_name": "pydatavenv",
   "language": "python",
   "name": "pydatavenv"
  },
  "language_info": {
   "codemirror_mode": {
    "name": "ipython",
    "version": 3
   },
   "file_extension": ".py",
   "mimetype": "text/x-python",
   "name": "python",
   "nbconvert_exporter": "python",
   "pygments_lexer": "ipython3",
   "version": "3.8.8"
  }
 },
 "nbformat": 4,
 "nbformat_minor": 4
}
