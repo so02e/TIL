{
 "cells": [
  {
   "cell_type": "code",
   "execution_count": 44,
   "metadata": {},
   "outputs": [
    {
     "name": "stdout",
     "output_type": "stream",
     "text": [
      "  name  kor  eng  mat\n",
      "0   둘리   90   99   90\n",
      "1   또치   80   98   70\n",
      "2  도우너   70   97   70\n",
      "3  희동이   70   46   60\n"
     ]
    }
   ],
   "source": [
    "import pandas as pd\n",
    "\n",
    "data = {\n",
    "    'name':['둘리', '또치', '도우너', '희동이'],\n",
    "    'kor':[90, 80, 70, 70],\n",
    "    'eng':[99, 98, 97, 46],\n",
    "    'mat':[90, 70, 70, 60],\n",
    "}\n",
    "df = pd.DataFrame(data)\n",
    "print(df)"
   ]
  },
  {
   "cell_type": "code",
   "execution_count": 45,
   "metadata": {},
   "outputs": [
    {
     "name": "stdout",
     "output_type": "stream",
     "text": [
      "  name  kor  eng  mat class\n",
      "0   둘리   90   99   90    1반\n",
      "1   또치   80   98   70    2반\n",
      "2  도우너   70   97   70    1반\n",
      "3  희동이   70   46   60    2반\n"
     ]
    }
   ],
   "source": [
    "df['class'] = (\"1반\",\"2반\",\"1반\",\"2반\")\n",
    "print(df)"
   ]
  },
  {
   "cell_type": "code",
   "execution_count": 46,
   "metadata": {},
   "outputs": [
    {
     "name": "stdout",
     "output_type": "stream",
     "text": [
      "  name  kor  eng  mat class\n",
      "0   둘리   90   99   90    1반\n",
      "1   또치   80   98   70    2반\n",
      "2  도우너   70   97   70    1반\n",
      "3  희동이   70   46   60    2반\n",
      "4  마이콜   80   80   80    1반\n"
     ]
    }
   ],
   "source": [
    "df.loc[4] = ['마이콜',80,80,80,'1반']\n",
    "print(df)"
   ]
  },
  {
   "cell_type": "code",
   "execution_count": 47,
   "metadata": {},
   "outputs": [],
   "source": [
    "df.set_index(['name'],inplace = True)\n",
    "df.columns=['국어','영어','수학','반번호']"
   ]
  },
  {
   "cell_type": "code",
   "execution_count": 48,
   "metadata": {},
   "outputs": [
    {
     "name": "stdout",
     "output_type": "stream",
     "text": [
      "      국어  영어  수학 반번호\n",
      "name                \n",
      "둘리    90  99  90  1반\n",
      "또치    80  98  70  2반\n",
      "도우너   70  97  70  1반\n",
      "희동이   70  46  60  2반\n",
      "마이콜   80  80  80  1반\n"
     ]
    }
   ],
   "source": [
    "print(df)"
   ]
  },
  {
   "cell_type": "code",
   "execution_count": 49,
   "metadata": {},
   "outputs": [
    {
     "name": "stdout",
     "output_type": "stream",
     "text": [
      "       국어   영어   수학  반번호\n",
      "name                    \n",
      "둘리     90   99   90   1반\n",
      "또치     80   98   70   2반\n",
      "도우너    70   97   70   1반\n",
      "희동이    70   46   60   2반\n",
      "마이콜   100  100  100  100\n"
     ]
    }
   ],
   "source": [
    "df.loc['마이콜'] = (100,100,100,100)\n",
    "print(df)"
   ]
  },
  {
   "cell_type": "code",
   "execution_count": 54,
   "metadata": {},
   "outputs": [
    {
     "name": "stdout",
     "output_type": "stream",
     "text": [
      "       국어   영어   수학  반번호\n",
      "name                    \n",
      "둘리     90   99   90   1반\n",
      "또치     80   98   70   2반\n",
      "도우너    70   97   70   1반\n",
      "희동이    70   90   60   2반\n",
      "마이콜   100  100  100  100\n"
     ]
    }
   ],
   "source": [
    "df.loc['희동이','영어'] = 90\n",
    "print(df)"
   ]
  },
  {
   "cell_type": "code",
   "execution_count": 55,
   "metadata": {},
   "outputs": [
    {
     "name": "stdout",
     "output_type": "stream",
     "text": [
      "  name   국어   영어   수학  반번호\n",
      "0   둘리   90   99   90   1반\n",
      "1   또치   80   98   70   2반\n",
      "2  도우너   70   97   70   1반\n",
      "3  희동이   70   90   60   2반\n",
      "4  마이콜  100  100  100  100\n"
     ]
    }
   ],
   "source": [
    "df = df.reset_index()\n",
    "print(df)"
   ]
  },
  {
   "cell_type": "code",
   "execution_count": 56,
   "metadata": {},
   "outputs": [
    {
     "name": "stdout",
     "output_type": "stream",
     "text": [
      "    성명   국어   영어   수학  반번호\n",
      "0   둘리   90   99   90   1반\n",
      "1   또치   80   98   70   2반\n",
      "2  도우너   70   97   70   1반\n",
      "3  희동이   70   90   60   2반\n",
      "4  마이콜  100  100  100  100\n"
     ]
    }
   ],
   "source": [
    "df.columns=['성명','국어','영어','수학','반번호']\n",
    "print(df)"
   ]
  },
  {
   "cell_type": "code",
   "execution_count": 57,
   "metadata": {},
   "outputs": [
    {
     "name": "stdout",
     "output_type": "stream",
     "text": [
      "    성명   국어   영어   수학  반번호\n",
      "4  마이콜  100  100  100  100\n",
      "0   둘리   90   99   90   1반\n",
      "1   또치   80   98   70   2반\n",
      "2  도우너   70   97   70   1반\n",
      "3  희동이   70   90   60   2반\n"
     ]
    }
   ],
   "source": [
    "df1 = df.sort_values(by='국어',ascending=False)\n",
    "print(df1)"
   ]
  },
  {
   "cell_type": "code",
   "execution_count": 58,
   "metadata": {},
   "outputs": [
    {
     "name": "stdout",
     "output_type": "stream",
     "text": [
      "    성명   국어   영어   수학  반번호\n",
      "3  희동이   70   90   60   2반\n",
      "2  도우너   70   97   70   1반\n",
      "1   또치   80   98   70   2반\n",
      "0   둘리   90   99   90   1반\n",
      "4  마이콜  100  100  100  100\n"
     ]
    }
   ],
   "source": [
    "df2 = df.sort_values(by='영어',ascending=True)\n",
    "print(df2)"
   ]
  },
  {
   "cell_type": "code",
   "execution_count": 64,
   "metadata": {},
   "outputs": [
    {
     "name": "stdout",
     "output_type": "stream",
     "text": [
      "    성명   국어   영어   수학  반번호   총점\n",
      "0   둘리   90   99   90   1반  279\n",
      "1   또치   80   98   70   2반  248\n",
      "2  도우너   70   97   70   1반  237\n",
      "3  희동이   70   90   60   2반  220\n",
      "4  마이콜  100  100  100  100  300\n"
     ]
    }
   ],
   "source": [
    "df['총점'] = df.국어 +  df.수학 + df.영어\n",
    "print(df)\n"
   ]
  },
  {
   "cell_type": "code",
   "execution_count": 65,
   "metadata": {},
   "outputs": [
    {
     "name": "stdout",
     "output_type": "stream",
     "text": [
      "    성명   국어   영어   수학  반번호   총점\n",
      "4  마이콜  100  100  100  100  300\n",
      "0   둘리   90   99   90   1반  279\n",
      "1   또치   80   98   70   2반  248\n",
      "2  도우너   70   97   70   1반  237\n",
      "3  희동이   70   90   60   2반  220\n"
     ]
    }
   ],
   "source": [
    "df = df.sort_values(by='총점',ascending=False)\n",
    "print(df)"
   ]
  },
  {
   "cell_type": "code",
   "execution_count": 66,
   "metadata": {},
   "outputs": [
    {
     "name": "stdout",
     "output_type": "stream",
     "text": [
      "    성명   국어   영어   수학   총점\n",
      "4  마이콜  100  100  100  300\n",
      "0   둘리   90   99   90  279\n",
      "1   또치   80   98   70  248\n",
      "2  도우너   70   97   70  237\n",
      "3  희동이   70   90   60  220\n",
      "    성명   국어   영어   수학  반번호   총점\n",
      "4  마이콜  100  100  100  100  300\n",
      "0   둘리   90   99   90   1반  279\n",
      "1   또치   80   98   70   2반  248\n",
      "2  도우너   70   97   70   1반  237\n",
      "3  희동이   70   90   60   2반  220\n"
     ]
    }
   ],
   "source": [
    "df3 = df.copy()\n",
    "df3.drop('반번호', axis=1, inplace=True)\n",
    "\n",
    "print(df3)\n",
    "print(df)"
   ]
  },
  {
   "cell_type": "code",
   "execution_count": 71,
   "metadata": {},
   "outputs": [
    {
     "name": "stdout",
     "output_type": "stream",
     "text": [
      "    성명  국어  영어  수학 반번호   총점\n",
      "0   둘리  90  99  90  1반  279\n",
      "1   또치  80  98  70  2반  248\n",
      "2  도우너  70  97  70  1반  237\n",
      "3  희동이  70  90  60  2반  220\n",
      "    성명   국어   영어   수학  반번호   총점\n",
      "4  마이콜  100  100  100  100  300\n",
      "0   둘리   90   99   90   1반  279\n",
      "1   또치   80   98   70   2반  248\n",
      "2  도우너   70   97   70   1반  237\n",
      "3  희동이   70   90   60   2반  220\n"
     ]
    }
   ],
   "source": [
    "df4 = df.copy()\n",
    "df4.drop(4, axis=0, inplace=True) \n",
    "\n",
    "print(df4)\n",
    "print(df)"
   ]
  },
  {
   "cell_type": "code",
   "execution_count": 84,
   "metadata": {},
   "outputs": [
    {
     "name": "stdout",
     "output_type": "stream",
     "text": [
      "eng      NaN\n",
      "kor    270.0\n",
      "mat      NaN\n",
      "dtype: float64\n"
     ]
    }
   ],
   "source": [
    "data1 = {'kor':90, 'mat':80}\n",
    "data2 = {'kor':90, 'eng':70}\n",
    "data3 = {'kor':90, 'eng':70, 'mat':80}\n",
    "series1 = pd.Series( data1 )\n",
    "series2 = pd.Series( data2 )\n",
    "series3 = pd.Series( data3 )\n",
    "result = series1 + series2 + series3\n",
    "print(result)\n",
    "\n"
   ]
  },
  {
   "cell_type": "code",
   "execution_count": 89,
   "metadata": {},
   "outputs": [
    {
     "name": "stdout",
     "output_type": "stream",
     "text": [
      "eng    140.0\n",
      "kor    270.0\n",
      "mat    160.0\n",
      "dtype: float64\n"
     ]
    }
   ],
   "source": [
    "# NaN은 0으로 변경하여 합산이 되는 코드로 변환\n",
    "import numpy as np\n",
    "\n",
    "data1 = {'kor':90, 'mat':80}\n",
    "data2 = {'kor':90, 'eng':70}\n",
    "data3 = {'kor':90, 'eng':70, 'mat':80}\n",
    "series1 = pd.Series( data1  )\n",
    "series2 = pd.Series( data2  )\n",
    "series3 = pd.Series( data3  )\n",
    "\n",
    "result = series1.add(series2,fill_value=0)\n",
    "result = result.add(series3,fill_value=0)\n",
    "print(result)"
   ]
  },
  {
   "cell_type": "code",
   "execution_count": 78,
   "metadata": {},
   "outputs": [
    {
     "name": "stdout",
     "output_type": "stream",
     "text": [
      "     X1   X2    X3  X4\n",
      "Y1  2.9  9.2  13.2   2\n",
      "Y2  2.4  8.7  11.5   3\n",
      "Y3  2.0  7.2  10.8   4\n",
      "Y4  2.3  8.5  12.3   3\n",
      "Y5  3.2  9.6  12.6   2\n"
     ]
    }
   ],
   "source": [
    "data = {\n",
    "    'X1':[2.9, 2.4, 2, 2.3, 3.2],\n",
    "    'X2':[9.2, 8.7, 7.2, 8.5, 9.6],\n",
    "    'X3':[13.2, 11.5, 10.8, 12.3, 12.6],\n",
    "    'X4':[2, 3, 4, 3, 2]\n",
    "} \n",
    "df = pd.DataFrame(data, index=['Y1','Y2','Y3', 'Y4', 'Y5'])\n",
    "print(df)"
   ]
  },
  {
   "cell_type": "code",
   "execution_count": 79,
   "metadata": {},
   "outputs": [
    {
     "name": "stdout",
     "output_type": "stream",
     "text": [
      "      X1    X2    X3  X4\n",
      "Y1   2.9   9.2  13.2   2\n",
      "Y2   2.4   8.7  11.5   3\n",
      "Y3   2.0   7.2  10.8   4\n",
      "Y4   2.3   8.5  12.3   3\n",
      "Y5   3.2   9.6  12.6   2\n",
      "Y6  10.0  20.0  30.0  40\n"
     ]
    }
   ],
   "source": [
    "df.loc['Y6'] = [10,20,30,40]\n",
    "print(df)\n"
   ]
  },
  {
   "cell_type": "code",
   "execution_count": 80,
   "metadata": {},
   "outputs": [
    {
     "name": "stdout",
     "output_type": "stream",
     "text": [
      "      X1    X2    X3  X4\n",
      "Y1  12.9  19.2  23.2  12\n",
      "Y2  12.4  18.7  21.5  13\n",
      "Y3  12.0  17.2  20.8  14\n",
      "Y4  12.3  18.5  22.3  13\n",
      "Y5  13.2  19.6  22.6  12\n",
      "Y6  20.0  30.0  40.0  50\n"
     ]
    }
   ],
   "source": [
    "df = df + 10\n",
    "print(df)"
   ]
  },
  {
   "cell_type": "code",
   "execution_count": 82,
   "metadata": {},
   "outputs": [
    {
     "name": "stdout",
     "output_type": "stream",
     "text": [
      "      X1    X2    X3  X4  total\n",
      "Y1  12.9  19.2  23.2  12   67.3\n",
      "Y2  12.4  18.7  21.5  13   65.6\n",
      "Y3  12.0  17.2  20.8  14   64.0\n",
      "Y4  12.3  18.5  22.3  13   66.1\n",
      "Y5  13.2  19.6  22.6  12   67.4\n",
      "Y6  20.0  30.0  40.0  50  140.0\n"
     ]
    }
   ],
   "source": [
    "df['total'] = df.X1 +  df.X2 + df.X3 + df.X4\n",
    "print(df)"
   ]
  },
  {
   "cell_type": "code",
   "execution_count": 83,
   "metadata": {},
   "outputs": [
    {
     "name": "stdout",
     "output_type": "stream",
     "text": [
      "         Y1    Y2    Y3    Y4    Y5     Y6\n",
      "X1     12.9  12.4  12.0  12.3  13.2   20.0\n",
      "X2     19.2  18.7  17.2  18.5  19.6   30.0\n",
      "X3     23.2  21.5  20.8  22.3  22.6   40.0\n",
      "X4     12.0  13.0  14.0  13.0  12.0   50.0\n",
      "total  67.3  65.6  64.0  66.1  67.4  140.0\n"
     ]
    }
   ],
   "source": [
    "df = df.transpose()\n",
    "print(df)"
   ]
  }
 ],
 "metadata": {
  "kernelspec": {
   "display_name": "pydatavenv",
   "language": "python",
   "name": "pydatavenv"
  },
  "language_info": {
   "codemirror_mode": {
    "name": "ipython",
    "version": 3
   },
   "file_extension": ".py",
   "mimetype": "text/x-python",
   "name": "python",
   "nbconvert_exporter": "python",
   "pygments_lexer": "ipython3",
   "version": "3.8.8"
  }
 },
 "nbformat": 4,
 "nbformat_minor": 4
}
